{
 "cells": [
  {
   "cell_type": "code",
   "execution_count": 2,
   "id": "e95776e3-0d95-4000-afe4-dee5edec2b86",
   "metadata": {},
   "outputs": [],
   "source": [
    "# !~/Desktop/ai-ml/U-tube/customer_segmentation/myenv/bin/python -m ipykernel install --user --name=myenv --display-name \"Python (myenv)\""
   ]
  },
  {
   "cell_type": "code",
   "execution_count": 13,
   "id": "0daa4073-e37d-4150-9e1e-f74191d44561",
   "metadata": {},
   "outputs": [],
   "source": [
    "import numpy as np\n",
    "import pandas as pd\n",
    "import matplotlib.pyplot as plt\n",
    "import seaborn as sns\n",
    "from sklearn.cluster import KMeans\n"
   ]
  },
  {
   "cell_type": "code",
   "execution_count": null,
   "id": "613dece1-f51b-4dd0-b73f-5904eb8ef662",
   "metadata": {},
   "outputs": [],
   "source": []
  }
 ],
 "metadata": {
  "kernelspec": {
   "display_name": "Python (myenv)",
   "language": "python",
   "name": "myenv"
  },
  "language_info": {
   "codemirror_mode": {
    "name": "ipython",
    "version": 3
   },
   "file_extension": ".py",
   "mimetype": "text/x-python",
   "name": "python",
   "nbconvert_exporter": "python",
   "pygments_lexer": "ipython3",
   "version": "3.13.0"
  }
 },
 "nbformat": 4,
 "nbformat_minor": 5
}
